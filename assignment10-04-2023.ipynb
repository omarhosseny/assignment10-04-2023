{
 "cells": [
  {
   "cell_type": "code",
   "execution_count": 2,
   "id": "578060d0-719f-4d63-9cf4-2ef4d18d0dca",
   "metadata": {},
   "outputs": [],
   "source": [
    "import numpy as np"
   ]
  },
  {
   "cell_type": "code",
   "execution_count": 3,
   "id": "5afea510-ea6a-4052-bc8d-7802219ae8ce",
   "metadata": {},
   "outputs": [
    {
     "name": "stdout",
     "output_type": "stream",
     "text": [
      "Contain Zero\n"
     ]
    }
   ],
   "source": [
    "# 1. Write a NumPy program to test whether none of the elements of a given array is zero.\n",
    "# 2. Write a NumPy program to test whether any of the elements of a given array is non-zero.\n",
    "def checkZero(arr) :\n",
    "    if np.all(arr) == True :\n",
    "        return \"Non Zero\"\n",
    "    return \"Contain Zero\"\n",
    "        \n",
    "arr = np.array([1,0,2,3,4])\n",
    "print(checkZero(arr))"
   ]
  },
  {
   "cell_type": "code",
   "execution_count": 40,
   "id": "7b4f8698-4854-4ec0-bf68-0138cfc01630",
   "metadata": {},
   "outputs": [
    {
     "name": "stdout",
     "output_type": "stream",
     "text": [
      "equal :  [False  True  True  True  True False  True  True False False]\n",
      "equal within a tolerance :  False\n"
     ]
    }
   ],
   "source": [
    "# 3. Write a NumPy program to create an element-wise comparison (equal, equal within a tolerance) of two given \n",
    "arr1 = np.array([1, 2, 3, 4, 5, 6, -7, 8, -9, 10])\n",
    "arr2 = np.array([4, 2, 3, 4, 5, -7, -7, 8, 60, 10.1])\n",
    "print(\"equal : \",np.equal(arr1, arr2))\n",
    "print(\"equal within a tolerance : \",np.allclose(arr1, arr2))"
   ]
  },
  {
   "cell_type": "code",
   "execution_count": 5,
   "id": "c6241e94-590e-4ce2-8973-a6fabd5382d1",
   "metadata": {},
   "outputs": [
    {
     "name": "stdout",
     "output_type": "stream",
     "text": [
      "[0. 0. 0. 0. 0. 0. 0. 0. 0. 0.]\n",
      "[1. 1. 1. 1. 1. 1. 1. 1. 1. 1.]\n",
      "[5. 5. 5. 5. 5. 5. 5. 5. 5. 5.]\n"
     ]
    }
   ],
   "source": [
    "# 4. Write a NumPy program to create an array of 10 zeros,10 ones, 10 fives.\n",
    "arr = np.zeros(10)\n",
    "print(arr)\n",
    "arr1 = np.ones(10)\n",
    "print(arr1)\n",
    "arr2 = np.ones(10)*5\n",
    "print(arr2)"
   ]
  },
  {
   "cell_type": "code",
   "execution_count": 6,
   "id": "be191bb0-6794-48ac-88d8-4d3b7e4d3200",
   "metadata": {},
   "outputs": [
    {
     "name": "stdout",
     "output_type": "stream",
     "text": [
      "[30 31 32 33 34 35 36 37 38 39 40 41 42 43 44 45 46 47 48 49 50 51 52 53\n",
      " 54 55 56 57 58 59 60 61 62 63 64 65 66 67 68 69 70]\n"
     ]
    }
   ],
   "source": [
    "# 5. Write a NumPy program to create an array of the integers from 30 to70.\n",
    "arr = np.arange(30,71,1)\n",
    "print(arr)"
   ]
  },
  {
   "cell_type": "code",
   "execution_count": 36,
   "id": "e260c414-3ae5-4faf-bc71-ad61a25dac7c",
   "metadata": {},
   "outputs": [
    {
     "name": "stdout",
     "output_type": "stream",
     "text": [
      "[[1. 0. 0.]\n",
      " [0. 1. 0.]\n",
      " [0. 0. 1.]]\n"
     ]
    }
   ],
   "source": [
    "# 6. Write a NumPy program to create a 3x3 identity matrix\n",
    "arr = np.identity(3)\n",
    "print(arr)"
   ]
  },
  {
   "cell_type": "code",
   "execution_count": 31,
   "id": "f8b13828-ab1f-486e-893c-0b353815e6df",
   "metadata": {},
   "outputs": [
    {
     "name": "stdout",
     "output_type": "stream",
     "text": [
      "0.9298182512608403\n"
     ]
    }
   ],
   "source": [
    "# 7. Write a NumPy program to generate a random number between 0 and 1 \n",
    "num = np.random.uniform(0, 1)\n",
    "print(num)"
   ]
  },
  {
   "cell_type": "code",
   "execution_count": 35,
   "id": "0ed5292a-4d2f-4465-8292-971284f45568",
   "metadata": {},
   "outputs": [
    {
     "name": "stdout",
     "output_type": "stream",
     "text": [
      "[0.0703291  0.52700621 0.24206495 0.0967345  0.40249986 0.62222383\n",
      " 0.89333361 0.82771388 0.03077362 0.96960738 0.43617916 0.26830945\n",
      " 0.53766738 0.29289732 0.89130502]\n"
     ]
    }
   ],
   "source": [
    "# 8. Write a NumPy program to generate an array of 15 random numbers from a standard normal distribution\n",
    "arr = np.random.uniform(0 , 1 , 15)\n",
    "print(arr)"
   ]
  },
  {
   "cell_type": "code",
   "execution_count": 41,
   "id": "b2478265-0199-40c2-9594-7a8707f56063",
   "metadata": {},
   "outputs": [
    {
     "name": "stdout",
     "output_type": "stream",
     "text": [
      "[16 17 18 19 20 21 22 23 24 25 26 27 28 29 30 31 32 33 34 35 36 37 38 39\n",
      " 40 41 42 43 44 45 46 47 48 49 50 51 52 53]\n"
     ]
    }
   ],
   "source": [
    "# 9. Write a NumPy program to create a vector with values ranging from 15 to 55 and print all values except the first and last.\n",
    "vectors = np.arange(15,55)\n",
    "print(vectors[1:-1])"
   ]
  },
  {
   "cell_type": "code",
   "execution_count": 43,
   "id": "377a734a-cdf4-445b-af91-530a0c10e9fd",
   "metadata": {},
   "outputs": [
    {
     "name": "stdout",
     "output_type": "stream",
     "text": [
      "[0 9 7 8 8]\n"
     ]
    }
   ],
   "source": [
    "# 10. Write a NumPy program to create a vector of length 5 filled with arbitrary integers from 0 to 10 \n",
    "vector = np.random.randint(0, 11, 5)\n",
    "print(vector)"
   ]
  },
  {
   "cell_type": "code",
   "execution_count": 131,
   "id": "9786aabf-dd5d-475f-ae10-cb49c760a554",
   "metadata": {},
   "outputs": [
    {
     "name": "stdout",
     "output_type": "stream",
     "text": [
      "[[1. 1. 1. 1. 1. 1. 1. 1. 1. 1.]\n",
      " [1. 0. 0. 0. 0. 0. 0. 0. 0. 1.]\n",
      " [1. 0. 0. 0. 0. 0. 0. 0. 0. 1.]\n",
      " [1. 0. 0. 0. 0. 0. 0. 0. 0. 1.]\n",
      " [1. 0. 0. 0. 0. 0. 0. 0. 0. 1.]\n",
      " [1. 0. 0. 0. 0. 0. 0. 0. 0. 1.]\n",
      " [1. 0. 0. 0. 0. 0. 0. 0. 0. 1.]\n",
      " [1. 0. 0. 0. 0. 0. 0. 0. 0. 1.]\n",
      " [1. 0. 0. 0. 0. 0. 0. 0. 0. 1.]\n",
      " [1. 1. 1. 1. 1. 1. 1. 1. 1. 1.]]\n"
     ]
    }
   ],
   "source": [
    "# 11. Write a NumPy program to create a 10x10 matrix, in which the elements on the borders will be equal to 1, and inside 0.\n",
    "arr = np.ones((10, 10))\n",
    "arr[1:-1, 1:-1] = 0\n",
    "print(arr)"
   ]
  },
  {
   "cell_type": "code",
   "execution_count": 46,
   "id": "cf775cb8-96f8-4f7d-b334-3de9d377b73c",
   "metadata": {},
   "outputs": [
    {
     "name": "stdout",
     "output_type": "stream",
     "text": [
      "[[1 0 0 0 0]\n",
      " [0 2 0 0 0]\n",
      " [0 0 3 0 0]\n",
      " [0 0 0 4 0]\n",
      " [0 0 0 0 5]]\n"
     ]
    }
   ],
   "source": [
    "# 12. Write a NumPy program to create a 5x5 zero matrix with elements on the main diagonal equal to 1, 2, 3, 4, 5.\n",
    "arr = np.diag([1, 2, 3, 4, 5])\n",
    "print(arr)"
   ]
  },
  {
   "cell_type": "code",
   "execution_count": 47,
   "id": "1e6ff2a5-f0cd-4201-9d0c-a11df8f3828c",
   "metadata": {},
   "outputs": [
    {
     "name": "stdout",
     "output_type": "stream",
     "text": [
      "[[0. 1. 0. 1.]\n",
      " [1. 0. 1. 0.]\n",
      " [0. 1. 0. 1.]\n",
      " [1. 0. 1. 0.]]\n"
     ]
    }
   ],
   "source": [
    "arr = np.zeros((4, 4))\n",
    "arr[::2, 1::2] = 1\n",
    "arr[1::2, ::2] = 1\n",
    "print(arr)"
   ]
  },
  {
   "cell_type": "code",
   "execution_count": 106,
   "id": "94b8fb96-ed2e-4992-b6ad-2508024cfd61",
   "metadata": {},
   "outputs": [
    {
     "data": {
      "text/plain": [
       "[5, 6, 7, 8]"
      ]
     },
     "execution_count": 106,
     "metadata": {},
     "output_type": "execute_result"
    }
   ],
   "source": [
    "# 14. Write a NumPy program to save two given arrays into a single file in compressed format (.npz format) and load it.\n",
    "arr1 = np.array([1,2,3,4])\n",
    "arr2 = np.array([5,6,7,8])\n",
    "np.savez(\"assignment.npz\",arr1 = arr1,arr2 = arr2)\n",
    "arr = np.load('assignment.npz')\n",
    "list(arr['arr1'])\n",
    "list(arr['arr2'])"
   ]
  },
  {
   "cell_type": "code",
   "execution_count": 129,
   "id": "8e1fbed6-46a4-4046-aa8c-e03fd3f8d8c7",
   "metadata": {},
   "outputs": [
    {
     "name": "stdout",
     "output_type": "stream",
     "text": [
      "[0.21876935 0.75249617 0.10687958 0.74460324 0.46978529 0.59825567\n",
      " 0.14762019 0.18403482 0.64507213 0.04862801 0.24861251 0.54240852\n",
      " 0.22677334 0.38141153 0.92223279 0.92535687 0.56674992 0.53347088\n",
      " 0.01486002 0.97789926 0.5730289  0.791757   0.56155736 0.87733524\n",
      " 0.58419583 0.70884983 0.14853345 0.42845074 0.69389007 0.10461974\n",
      " 0.43960524 0.16620215 0.50697863 0.81903586 0.09010673 0.80006875\n",
      " 0.56512635 0.58934771 0.19810066 0.43611826]\n"
     ]
    }
   ],
   "source": [
    "# 15. Write a NumPy program to create a one-dimensional array of forty pseudo-randomly generated values. Select \n",
    "arr = np.random.rand(40)\n",
    "print(arr)"
   ]
  },
  {
   "cell_type": "code",
   "execution_count": 130,
   "id": "6ca00bc2-9f69-4746-9625-3a209775d562",
   "metadata": {},
   "outputs": [
    {
     "name": "stdout",
     "output_type": "stream",
     "text": [
      "[5]\n"
     ]
    }
   ],
   "source": [
    "# 16. Write a NumPy program to extract all numbers from a given array which are less and greater than aspecified number\n",
    "arr = np.array([[1, 5, 7],\n",
    "              [11, 14, 16],\n",
    "              [52, 49, 19]])\n",
    "\n",
    "arr = arr[arr > 2]\n",
    "print(arr[arr < 6])"
   ]
  },
  {
   "cell_type": "code",
   "execution_count": null,
   "id": "b11a628f-239c-486d-90cb-8bea19a2d019",
   "metadata": {},
   "outputs": [],
   "source": []
  }
 ],
 "metadata": {
  "kernelspec": {
   "display_name": "Python 3 (ipykernel)",
   "language": "python",
   "name": "python3"
  },
  "language_info": {
   "codemirror_mode": {
    "name": "ipython",
    "version": 3
   },
   "file_extension": ".py",
   "mimetype": "text/x-python",
   "name": "python",
   "nbconvert_exporter": "python",
   "pygments_lexer": "ipython3",
   "version": "3.9.12"
  }
 },
 "nbformat": 4,
 "nbformat_minor": 5
}
